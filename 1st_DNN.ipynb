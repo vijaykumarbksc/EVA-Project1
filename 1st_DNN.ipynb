{
  "nbformat": 4,
  "nbformat_minor": 0,
  "metadata": {
    "colab": {
      "name": "1st DNN.ipynb",
      "version": "0.3.2",
      "provenance": [],
      "collapsed_sections": [],
      "include_colab_link": true
    },
    "kernelspec": {
      "name": "python3",
      "display_name": "Python 3"
    },
    "accelerator": "GPU"
  },
  "cells": [
    {
      "cell_type": "markdown",
      "metadata": {
        "id": "view-in-github",
        "colab_type": "text"
      },
      "source": [
        "<a href=\"https://colab.research.google.com/github/vijaykumarbksc/EVA-Project1/blob/master/1st_DNN.ipynb\" target=\"_parent\"><img src=\"https://colab.research.google.com/assets/colab-badge.svg\" alt=\"Open In Colab\"/></a>"
      ]
    },
    {
      "cell_type": "markdown",
      "metadata": {
        "id": "aNyZv-Ec52ot",
        "colab_type": "text"
      },
      "source": [
        "# **Import Libraries and modules**"
      ]
    },
    {
      "cell_type": "code",
      "metadata": {
        "id": "3m3w1Cw49Zkt",
        "colab_type": "code",
        "colab": {}
      },
      "source": [
        "# https://keras.io/\n",
        "!pip install -q keras\n",
        "import keras"
      ],
      "execution_count": 0,
      "outputs": []
    },
    {
      "cell_type": "code",
      "metadata": {
        "id": "Eso6UHE080D4",
        "colab_type": "code",
        "outputId": "9a0e62cb-1f4d-4c7d-87a6-8ec1fd655d80",
        "colab": {
          "base_uri": "https://localhost:8080/",
          "height": 34
        }
      },
      "source": [
        "import numpy as np\n",
        "\n",
        "from keras.models import Sequential\n",
        "from keras.layers import Dense, Dropout, Activation, Flatten, Add\n",
        "from keras.layers import Convolution2D, MaxPooling2D\n",
        "from keras.utils import np_utils\n",
        "\n",
        "from keras.datasets import mnist"
      ],
      "execution_count": 2,
      "outputs": [
        {
          "output_type": "stream",
          "text": [
            "Using TensorFlow backend.\n"
          ],
          "name": "stderr"
        }
      ]
    },
    {
      "cell_type": "markdown",
      "metadata": {
        "id": "zByEi95J86RD",
        "colab_type": "text"
      },
      "source": [
        "### Load pre-shuffled MNIST data into train and test sets"
      ]
    },
    {
      "cell_type": "code",
      "metadata": {
        "id": "7eRM0QWN83PV",
        "colab_type": "code",
        "outputId": "9a393fed-6990-4165-b00c-344db16f959b",
        "colab": {
          "base_uri": "https://localhost:8080/",
          "height": 51
        }
      },
      "source": [
        "(X_train, y_train), (X_test, y_test) = mnist.load_data()"
      ],
      "execution_count": 3,
      "outputs": [
        {
          "output_type": "stream",
          "text": [
            "Downloading data from https://s3.amazonaws.com/img-datasets/mnist.npz\n",
            "11493376/11490434 [==============================] - 2s 0us/step\n"
          ],
          "name": "stdout"
        }
      ]
    },
    {
      "cell_type": "code",
      "metadata": {
        "id": "4a4Be72j8-ZC",
        "colab_type": "code",
        "outputId": "cee3e7ad-ac3f-4eaa-dbe4-fd5f085b71a6",
        "colab": {
          "base_uri": "https://localhost:8080/",
          "height": 303
        }
      },
      "source": [
        "print (X_train.shape)\n",
        "from matplotlib import pyplot as plt\n",
        "%matplotlib inline\n",
        "plt.imshow(X_train[0])"
      ],
      "execution_count": 4,
      "outputs": [
        {
          "output_type": "stream",
          "text": [
            "(60000, 28, 28)\n"
          ],
          "name": "stdout"
        },
        {
          "output_type": "execute_result",
          "data": {
            "text/plain": [
              "<matplotlib.image.AxesImage at 0x7efd696170b8>"
            ]
          },
          "metadata": {
            "tags": []
          },
          "execution_count": 4
        },
        {
          "output_type": "display_data",
          "data": {
            "image/png": "[encoded data removed]",
            "text/plain": [
              "<Figure size 432x288 with 1 Axes>"
            ]
          },
          "metadata": {
            "tags": []
          }
        }
      ]
    },
    {
      "cell_type": "code",
      "metadata": {
        "id": "dkmprriw9AnZ",
        "colab_type": "code",
        "colab": {}
      },
      "source": [
        "X_train = X_train.reshape(X_train.shape[0], 28, 28,1)\n",
        "X_test = X_test.reshape(X_test.shape[0], 28, 28,1)"
      ],
      "execution_count": 0,
      "outputs": []
    },
    {
      "cell_type": "code",
      "metadata": {
        "id": "X2m4YS4E9CRh",
        "colab_type": "code",
        "colab": {}
      },
      "source": [
        "X_train = X_train.astype('float32')\n",
        "X_test = X_test.astype('float32')\n",
        "X_train /= 255\n",
        "X_test /= 255"
      ],
      "execution_count": 0,
      "outputs": []
    },
    {
      "cell_type": "code",
      "metadata": {
        "id": "0Mn0vAYD9DvB",
        "colab_type": "code",
        "outputId": "69f99c51-0f6e-436e-838a-f3fe501bda4a",
        "colab": {
          "base_uri": "https://localhost:8080/",
          "height": 34
        }
      },
      "source": [
        "y_train[:10]"
      ],
      "execution_count": 7,
      "outputs": [
        {
          "output_type": "execute_result",
          "data": {
            "text/plain": [
              "array([5, 0, 4, 1, 9, 2, 1, 3, 1, 4], dtype=uint8)"
            ]
          },
          "metadata": {
            "tags": []
          },
          "execution_count": 7
        }
      ]
    },
    {
      "cell_type": "code",
      "metadata": {
        "id": "ZG8JiXR39FHC",
        "colab_type": "code",
        "colab": {}
      },
      "source": [
        "# Convert 1-dimensional class arrays to 10-dimensional class matrices\n",
        "Y_train = np_utils.to_categorical(y_train, 10)\n",
        "Y_test = np_utils.to_categorical(y_test, 10)"
      ],
      "execution_count": 0,
      "outputs": []
    },
    {
      "cell_type": "code",
      "metadata": {
        "id": "fYlFRvKS9HMB",
        "colab_type": "code",
        "outputId": "ee314de1-c796-4221-dfc1-2afaf91a0193",
        "colab": {
          "base_uri": "https://localhost:8080/",
          "height": 187
        }
      },
      "source": [
        "Y_train[:10]\n"
      ],
      "execution_count": 9,
      "outputs": [
        {
          "output_type": "execute_result",
          "data": {
            "text/plain": [
              "array([[0., 0., 0., 0., 0., 1., 0., 0., 0., 0.],\n",
              "       [1., 0., 0., 0., 0., 0., 0., 0., 0., 0.],\n",
              "       [0., 0., 0., 0., 1., 0., 0., 0., 0., 0.],\n",
              "       [0., 1., 0., 0., 0., 0., 0., 0., 0., 0.],\n",
              "       [0., 0., 0., 0., 0., 0., 0., 0., 0., 1.],\n",
              "       [0., 0., 1., 0., 0., 0., 0., 0., 0., 0.],\n",
              "       [0., 1., 0., 0., 0., 0., 0., 0., 0., 0.],\n",
              "       [0., 0., 0., 1., 0., 0., 0., 0., 0., 0.],\n",
              "       [0., 1., 0., 0., 0., 0., 0., 0., 0., 0.],\n",
              "       [0., 0., 0., 0., 1., 0., 0., 0., 0., 0.]], dtype=float32)"
            ]
          },
          "metadata": {
            "tags": []
          },
          "execution_count": 9
        }
      ]
    },
    {
      "cell_type": "code",
      "metadata": {
        "id": "osKqT73Q9JJB",
        "colab_type": "code",
        "outputId": "78ea9f3a-e3d9-4b74-fd31-4e2d66729ef4",
        "colab": {
          "base_uri": "https://localhost:8080/",
          "height": 122
        }
      },
      "source": [
        "from keras.layers import Activation\n",
        "model = Sequential()\n",
        "\n",
        " \n",
        "model.add(Convolution2D(32, 3, 3, activation='relu', input_shape=(28,28,1)))\n",
        "model.add(Convolution2D(10, 1, activation='relu'))\n",
        "model.add(Convolution2D(10, 26))\n",
        "model.add(Flatten())\n",
        "model.add(Activation('softmax'))"
      ],
      "execution_count": 10,
      "outputs": [
        {
          "output_type": "stream",
          "text": [
            "WARNING:tensorflow:From /usr/local/lib/python3.6/dist-packages/tensorflow/python/framework/op_def_library.py:263: colocate_with (from tensorflow.python.framework.ops) is deprecated and will be removed in a future version.\n",
            "Instructions for updating:\n",
            "Colocations handled automatically by placer.\n"
          ],
          "name": "stdout"
        },
        {
          "output_type": "stream",
          "text": [
            "/usr/local/lib/python3.6/dist-packages/ipykernel_launcher.py:5: UserWarning: Update your `Conv2D` call to the Keras 2 API: `Conv2D(32, (3, 3), activation=\"relu\", input_shape=(28, 28, 1...)`\n",
            "  \"\"\"\n"
          ],
          "name": "stderr"
        }
      ]
    },
    {
      "cell_type": "code",
      "metadata": {
        "id": "kWEQ-BI4af9P",
        "colab_type": "code",
        "colab": {
          "base_uri": "https://localhost:8080/",
          "height": 71
        },
        "outputId": "4c44df05-1e3e-4d84-e8fb-8f46a03268ac"
      },
      "source": [
        "from keras.layers import Activation\n",
        "from keras.layers import MaxPooling2D\n",
        "from keras import layers\n",
        "model = Sequential()\n",
        "\n",
        " \n",
        "model.add(Convolution2D(32, 1, 1, activation='relu', input_shape=(28,28,1)))\n",
        "model.add(Convolution2D(10, 1, activation='relu'))\n",
        "model.add(MaxPooling2D(2,2))\n",
        "model.add(Convolution2D(10, 12))\n",
        "model.add(MaxPooling2D(2,2))\n",
        "model.add(Flatten())\n",
        "model.add(Activation('softmax') )  "
      ],
      "execution_count": 21,
      "outputs": [
        {
          "output_type": "stream",
          "text": [
            "/usr/local/lib/python3.6/dist-packages/ipykernel_launcher.py:7: UserWarning: Update your `Conv2D` call to the Keras 2 API: `Conv2D(32, (1, 1), activation=\"relu\", input_shape=(28, 28, 1...)`\n",
            "  import sys\n"
          ],
          "name": "stderr"
        }
      ]
    },
    {
      "cell_type": "code",
      "metadata": {
        "id": "TzdAYg1k9K7Z",
        "colab_type": "code",
        "outputId": "5a1ce304-a880-4eab-8c73-d6883fa4d071",
        "colab": {
          "base_uri": "https://localhost:8080/",
          "height": 374
        }
      },
      "source": [
        "model.summary()"
      ],
      "execution_count": 22,
      "outputs": [
        {
          "output_type": "stream",
          "text": [
            "_________________________________________________________________\n",
            "Layer (type)                 Output Shape              Param #   \n",
            "=================================================================\n",
            "conv2d_25 (Conv2D)           (None, 28, 28, 32)        64        \n",
            "_________________________________________________________________\n",
            "conv2d_26 (Conv2D)           (None, 28, 28, 10)        330       \n",
            "_________________________________________________________________\n",
            "max_pooling2d_9 (MaxPooling2 (None, 14, 14, 10)        0         \n",
            "_________________________________________________________________\n",
            "conv2d_27 (Conv2D)           (None, 3, 3, 10)          14410     \n",
            "_________________________________________________________________\n",
            "max_pooling2d_10 (MaxPooling (None, 1, 1, 10)          0         \n",
            "_________________________________________________________________\n",
            "flatten_7 (Flatten)          (None, 10)                0         \n",
            "_________________________________________________________________\n",
            "activation_7 (Activation)    (None, 10)                0         \n",
            "=================================================================\n",
            "Total params: 14,804\n",
            "Trainable params: 14,804\n",
            "Non-trainable params: 0\n",
            "_________________________________________________________________\n"
          ],
          "name": "stdout"
        }
      ]
    },
    {
      "cell_type": "code",
      "metadata": {
        "id": "Zp6SuGrL9M3h",
        "colab_type": "code",
        "colab": {}
      },
      "source": [
        "model.compile(loss='categorical_crossentropy',\n",
        "             optimizer='adam',\n",
        "             metrics=['accuracy'])"
      ],
      "execution_count": 0,
      "outputs": []
    },
    {
      "cell_type": "code",
      "metadata": {
        "id": "4xWoKhPY9Of5",
        "colab_type": "code",
        "outputId": "306001eb-3913-49ec-fd07-c2d00d922de8",
        "colab": {
          "base_uri": "https://localhost:8080/",
          "height": 1839
        }
      },
      "source": [
        "model.fit(X_train, Y_train, batch_size=32, nb_epoch=50, verbose=1)"
      ],
      "execution_count": 24,
      "outputs": [
        {
          "output_type": "stream",
          "text": [
            "WARNING:tensorflow:From /usr/local/lib/python3.6/dist-packages/tensorflow/python/ops/math_ops.py:3066: to_int32 (from tensorflow.python.ops.math_ops) is deprecated and will be removed in a future version.\n",
            "Instructions for updating:\n",
            "Use tf.cast instead.\n"
          ],
          "name": "stdout"
        },
        {
          "output_type": "stream",
          "text": [
            "/usr/local/lib/python3.6/dist-packages/ipykernel_launcher.py:1: UserWarning: The `nb_epoch` argument in `fit` has been renamed `epochs`.\n",
            "  \"\"\"Entry point for launching an IPython kernel.\n"
          ],
          "name": "stderr"
        },
        {
          "output_type": "stream",
          "text": [
            "Epoch 1/50\n",
            "60000/60000 [==============================] - 12s 198us/step - loss: 0.3682 - acc: 0.8969\n",
            "Epoch 2/50\n",
            "60000/60000 [==============================] - 8s 138us/step - loss: 0.2598 - acc: 0.9260\n",
            "Epoch 3/50\n",
            "60000/60000 [==============================] - 8s 126us/step - loss: 0.2466 - acc: 0.9305\n",
            "Epoch 4/50\n",
            "60000/60000 [==============================] - 7s 122us/step - loss: 0.2345 - acc: 0.9337\n",
            "Epoch 5/50\n",
            "60000/60000 [==============================] - 7s 122us/step - loss: 0.2267 - acc: 0.9363\n",
            "Epoch 6/50\n",
            "60000/60000 [==============================] - 7s 122us/step - loss: 0.2192 - acc: 0.9390\n",
            "Epoch 7/50\n",
            "60000/60000 [==============================] - 7s 123us/step - loss: 0.2136 - acc: 0.9400\n",
            "Epoch 8/50\n",
            "60000/60000 [==============================] - 7s 123us/step - loss: 0.2086 - acc: 0.9406\n",
            "Epoch 9/50\n",
            "60000/60000 [==============================] - 7s 122us/step - loss: 0.2055 - acc: 0.9425\n",
            "Epoch 10/50\n",
            "60000/60000 [==============================] - 7s 122us/step - loss: 0.2039 - acc: 0.9428\n",
            "Epoch 11/50\n",
            "60000/60000 [==============================] - 7s 122us/step - loss: 0.2016 - acc: 0.9428\n",
            "Epoch 12/50\n",
            "60000/60000 [==============================] - 8s 125us/step - loss: 0.1991 - acc: 0.9444\n",
            "Epoch 13/50\n",
            "60000/60000 [==============================] - 8s 139us/step - loss: 0.1987 - acc: 0.9444\n",
            "Epoch 14/50\n",
            "60000/60000 [==============================] - 7s 123us/step - loss: 0.1966 - acc: 0.9440\n",
            "Epoch 15/50\n",
            "60000/60000 [==============================] - 7s 123us/step - loss: 0.1962 - acc: 0.9447\n",
            "Epoch 16/50\n",
            "60000/60000 [==============================] - 7s 122us/step - loss: 0.1945 - acc: 0.9448\n",
            "Epoch 17/50\n",
            "60000/60000 [==============================] - 7s 122us/step - loss: 0.1923 - acc: 0.9453\n",
            "Epoch 18/50\n",
            "60000/60000 [==============================] - 9s 145us/step - loss: 0.1925 - acc: 0.9450\n",
            "Epoch 19/50\n",
            "60000/60000 [==============================] - 8s 127us/step - loss: 0.1910 - acc: 0.9453\n",
            "Epoch 20/50\n",
            "60000/60000 [==============================] - 7s 123us/step - loss: 0.1909 - acc: 0.9458\n",
            "Epoch 21/50\n",
            "60000/60000 [==============================] - 7s 122us/step - loss: 0.1900 - acc: 0.9463\n",
            "Epoch 22/50\n",
            "60000/60000 [==============================] - 7s 123us/step - loss: 0.1895 - acc: 0.9463\n",
            "Epoch 23/50\n",
            "60000/60000 [==============================] - 8s 133us/step - loss: 0.1881 - acc: 0.9472\n",
            "Epoch 24/50\n",
            "60000/60000 [==============================] - 8s 133us/step - loss: 0.1872 - acc: 0.9473\n",
            "Epoch 25/50\n",
            "60000/60000 [==============================] - 7s 123us/step - loss: 0.1870 - acc: 0.9476\n",
            "Epoch 26/50\n",
            "60000/60000 [==============================] - 7s 122us/step - loss: 0.1867 - acc: 0.9472\n",
            "Epoch 27/50\n",
            "60000/60000 [==============================] - 7s 122us/step - loss: 0.1866 - acc: 0.9470\n",
            "Epoch 28/50\n",
            "60000/60000 [==============================] - 7s 123us/step - loss: 0.1855 - acc: 0.9476\n",
            "Epoch 29/50\n",
            "60000/60000 [==============================] - 7s 122us/step - loss: 0.1841 - acc: 0.9482\n",
            "Epoch 30/50\n",
            "60000/60000 [==============================] - 7s 123us/step - loss: 0.1840 - acc: 0.9478\n",
            "Epoch 31/50\n",
            "60000/60000 [==============================] - 7s 122us/step - loss: 0.1828 - acc: 0.9486\n",
            "Epoch 32/50\n",
            "60000/60000 [==============================] - 7s 122us/step - loss: 0.1840 - acc: 0.9478\n",
            "Epoch 33/50\n",
            "60000/60000 [==============================] - 7s 122us/step - loss: 0.1829 - acc: 0.9476\n",
            "Epoch 34/50\n",
            "60000/60000 [==============================] - 8s 137us/step - loss: 0.1822 - acc: 0.9486\n",
            "Epoch 35/50\n",
            "60000/60000 [==============================] - 8s 131us/step - loss: 0.1818 - acc: 0.9478\n",
            "Epoch 36/50\n",
            "60000/60000 [==============================] - 7s 122us/step - loss: 0.1821 - acc: 0.9485\n",
            "Epoch 37/50\n",
            "60000/60000 [==============================] - 8s 131us/step - loss: 0.1812 - acc: 0.9484\n",
            "Epoch 38/50\n",
            "60000/60000 [==============================] - 8s 127us/step - loss: 0.1807 - acc: 0.9490\n",
            "Epoch 39/50\n",
            "60000/60000 [==============================] - 7s 123us/step - loss: 0.1805 - acc: 0.9487\n",
            "Epoch 40/50\n",
            "60000/60000 [==============================] - 7s 123us/step - loss: 0.1797 - acc: 0.9494\n",
            "Epoch 41/50\n",
            "60000/60000 [==============================] - 7s 123us/step - loss: 0.1801 - acc: 0.9494\n",
            "Epoch 42/50\n",
            "60000/60000 [==============================] - 7s 122us/step - loss: 0.1790 - acc: 0.9490\n",
            "Epoch 43/50\n",
            "60000/60000 [==============================] - 7s 122us/step - loss: 0.1786 - acc: 0.9499\n",
            "Epoch 44/50\n",
            "60000/60000 [==============================] - 8s 126us/step - loss: 0.1792 - acc: 0.9496\n",
            "Epoch 45/50\n",
            "60000/60000 [==============================] - 8s 140us/step - loss: 0.1797 - acc: 0.9492\n",
            "Epoch 46/50\n",
            "60000/60000 [==============================] - 7s 123us/step - loss: 0.1782 - acc: 0.9497\n",
            "Epoch 47/50\n",
            "60000/60000 [==============================] - 7s 123us/step - loss: 0.1780 - acc: 0.9501\n",
            "Epoch 48/50\n",
            "60000/60000 [==============================] - 7s 123us/step - loss: 0.1780 - acc: 0.9498\n",
            "Epoch 49/50\n",
            "60000/60000 [==============================] - 7s 123us/step - loss: 0.1775 - acc: 0.9497\n",
            "Epoch 50/50\n",
            "60000/60000 [==============================] - 7s 123us/step - loss: 0.1777 - acc: 0.9496\n"
          ],
          "name": "stdout"
        },
        {
          "output_type": "execute_result",
          "data": {
            "text/plain": [
              "<keras.callbacks.History at 0x7efd65de7940>"
            ]
          },
          "metadata": {
            "tags": []
          },
          "execution_count": 24
        }
      ]
    },
    {
      "cell_type": "code",
      "metadata": {
        "id": "AtsH-lLk-eLb",
        "colab_type": "code",
        "colab": {}
      },
      "source": [
        "score = model.evaluate(X_test, Y_test, verbose=0)"
      ],
      "execution_count": 0,
      "outputs": []
    },
    {
      "cell_type": "code",
      "metadata": {
        "id": "mkX8JMv79q9r",
        "colab_type": "code",
        "outputId": "c799e5f7-09a2-407c-8574-27f969fd4c78",
        "colab": {
          "base_uri": "https://localhost:8080/",
          "height": 34
        }
      },
      "source": [
        "print(score)"
      ],
      "execution_count": 26,
      "outputs": [
        {
          "output_type": "stream",
          "text": [
            "[0.20097732933461665, 0.9438]\n"
          ],
          "name": "stdout"
        }
      ]
    },
    {
      "cell_type": "code",
      "metadata": {
        "id": "OCWoJkwE9suh",
        "colab_type": "code",
        "colab": {}
      },
      "source": [
        "y_pred = model.predict(X_test)"
      ],
      "execution_count": 0,
      "outputs": []
    },
    {
      "cell_type": "code",
      "metadata": {
        "id": "Ym7iCFBm9uBs",
        "colab_type": "code",
        "outputId": "bfd0c1fd-bcd0-4140-e310-10ecf741b4e0",
        "colab": {
          "base_uri": "https://localhost:8080/",
          "height": 340
        }
      },
      "source": [
        "print(y_pred[:9])\n",
        "print(y_test[:9])"
      ],
      "execution_count": 28,
      "outputs": [
        {
          "output_type": "stream",
          "text": [
            "[[2.7246454e-06 9.3566079e-08 1.8108332e-06 2.7042546e-04 5.0995730e-08\n",
            "  9.5473042e-06 3.9995984e-10 9.9970728e-01 6.7400570e-08 7.8985768e-06]\n",
            " [2.0174799e-04 3.1680730e-04 8.0310756e-01 6.4595386e-02 1.0859261e-09\n",
            "  4.5274086e-03 3.1313177e-02 1.1911830e-17 9.5937930e-02 1.8043051e-12]\n",
            " [1.4057808e-04 9.7327507e-01 1.3175269e-02 1.1943724e-03 6.4779636e-03\n",
            "  2.7782388e-03 8.0681857e-05 2.5341788e-03 2.6140176e-04 8.2269005e-05]\n",
            " [9.9927360e-01 3.3056939e-11 1.4515709e-04 4.2821782e-08 1.4467707e-06\n",
            "  7.0884511e-05 4.3502171e-04 4.5707424e-05 2.5517301e-07 2.7895072e-05]\n",
            " [6.0476614e-05 5.1005411e-10 9.3162223e-04 5.0207035e-08 9.9801946e-01\n",
            "  1.0216248e-05 1.6181864e-04 1.9262641e-04 2.0382080e-05 6.0333521e-04]\n",
            " [4.8984093e-06 9.9544299e-01 7.3676056e-04 1.5005200e-04 3.2359996e-04\n",
            "  6.3718733e-05 1.6147342e-06 3.1561942e-03 1.0001980e-04 2.0159063e-05]\n",
            " [3.7283131e-05 1.4968529e-05 7.9783786e-07 3.4181390e-05 9.6974123e-01\n",
            "  4.3955748e-03 1.3393521e-06 3.4300613e-03 1.8603517e-02 3.7410036e-03]\n",
            " [1.8149025e-10 6.2453252e-04 1.3191604e-04 2.1037548e-03 6.9877286e-03\n",
            "  1.5294205e-03 3.5044843e-06 4.1236741e-05 1.4114751e-03 9.8716646e-01]\n",
            " [5.9255239e-02 3.0521123e-09 2.7369324e-04 2.5749309e-12 2.5541666e-01\n",
            "  1.1193632e-01 5.7271677e-01 9.7061807e-09 3.9060187e-04 1.0677163e-05]]\n",
            "[7 2 1 0 4 1 4 9 5]\n"
          ],
          "name": "stdout"
        }
      ]
    },
    {
      "cell_type": "code",
      "metadata": {
        "id": "CT--y98_dr2T",
        "colab_type": "code",
        "colab": {}
      },
      "source": [
        "layer_dict = dict([(layer.name, layer) for layer in model.layers])"
      ],
      "execution_count": 0,
      "outputs": []
    },
    {
      "cell_type": "code",
      "metadata": {
        "id": "2GY4Upv4dsUR",
        "colab_type": "code",
        "outputId": "4c6a56fc-8037-4f79-b3c0-cf76b7b80f80",
        "colab": {
          "base_uri": "https://localhost:8080/",
          "height": 316
        }
      },
      "source": [
        "import numpy as np\n",
        "from matplotlib import pyplot as plt\n",
        "from keras import backend as K\n",
        "%matplotlib inline\n",
        "# util function to convert a tensor into a valid image\n",
        "def deprocess_image(x):\n",
        "    # normalize tensor: center on 0., ensure std is 0.1\n",
        "    x -= x.mean()\n",
        "    x /= (x.std() + 1e-5)\n",
        "    x *= 0.1\n",
        "\n",
        "    # clip to [0, 1]\n",
        "    x += 0.5\n",
        "    x = np.clip(x, 0, 1)\n",
        "\n",
        "    # convert to RGB array\n",
        "    x *= 255\n",
        "    #x = x.transpose((1, 2, 0))\n",
        "    x = np.clip(x, 0, 255).astype('uint8')\n",
        "    return x\n",
        "\n",
        "def vis_img_in_filter(img = np.array(X_train[2]).reshape((1, 28, 28, 1)).astype(np.float64), \n",
        "                      layer_name = 'conv2d_14'):\n",
        "    layer_output = layer_dict[layer_name].output\n",
        "    img_ascs = list()\n",
        "    for filter_index in range(layer_output.shape[3]):\n",
        "        # build a loss function that maximizes the activation\n",
        "        # of the nth filter of the layer considered\n",
        "        loss = K.mean(layer_output[:, :, :, filter_index])\n",
        "\n",
        "        # compute the gradient of the input picture wrt this loss\n",
        "        grads = K.gradients(loss, model.input)[0]\n",
        "\n",
        "        # normalization trick: we normalize the gradient\n",
        "        grads /= (K.sqrt(K.mean(K.square(grads))) + 1e-5)\n",
        "\n",
        "        # this function returns the loss and grads given the input picture\n",
        "        iterate = K.function([model.input], [loss, grads])\n",
        "\n",
        "        # step size for gradient ascent\n",
        "        step = 5.\n",
        "\n",
        "        img_asc = np.array(img)\n",
        "        # run gradient ascent for 20 steps\n",
        "        for i in range(20):\n",
        "            loss_value, grads_value = iterate([img_asc])\n",
        "            img_asc += grads_value * step\n",
        "\n",
        "        img_asc = img_asc[0]\n",
        "        img_ascs.append(deprocess_image(img_asc).reshape((28, 28)))\n",
        "        \n",
        "    if layer_output.shape[3] >= 35:\n",
        "        plot_x, plot_y = 6, 6\n",
        "    elif layer_output.shape[3] >= 23:\n",
        "        plot_x, plot_y = 4, 6\n",
        "    elif layer_output.shape[3] >= 11:\n",
        "        plot_x, plot_y = 2, 6\n",
        "    else:\n",
        "        plot_x, plot_y = 1, 2\n",
        "    fig, ax = plt.subplots(plot_x, plot_y, figsize = (12, 12))\n",
        "    ax[0, 0].imshow(img.reshape((28, 28)), cmap = 'gray')\n",
        "    ax[0, 0].set_title('Input image')\n",
        "    fig.suptitle('Input image and %s filters' % (layer_name,))\n",
        "    fig.tight_layout(pad = 0.3, rect = [0, 0, 0.9, 0.9])\n",
        "    for (x, y) in [(i, j) for i in range(plot_x) for j in range(plot_y)]:\n",
        "        if x == 0 and y == 0:\n",
        "            continue\n",
        "        ax[x, y].imshow(img_ascs[x * plot_y + y - 1], cmap = 'gray')\n",
        "        ax[x, y].set_title('filter %d' % (x * plot_y + y - 1))\n",
        "\n",
        "vis_img_in_filter()"
      ],
      "execution_count": 30,
      "outputs": [
        {
          "output_type": "error",
          "ename": "KeyError",
          "evalue": "ignored",
          "traceback": [
            "\u001b[0;31m---------------------------------------------------------------------------\u001b[0m",
            "\u001b[0;31mKeyError\u001b[0m                                  Traceback (most recent call last)",
            "\u001b[0;32m<ipython-input-30-19229f66b51a>\u001b[0m in \u001b[0;36m<module>\u001b[0;34m()\u001b[0m\n\u001b[1;32m     69\u001b[0m         \u001b[0max\u001b[0m\u001b[0;34m[\u001b[0m\u001b[0mx\u001b[0m\u001b[0;34m,\u001b[0m \u001b[0my\u001b[0m\u001b[0;34m]\u001b[0m\u001b[0;34m.\u001b[0m\u001b[0mset_title\u001b[0m\u001b[0;34m(\u001b[0m\u001b[0;34m'filter %d'\u001b[0m \u001b[0;34m%\u001b[0m \u001b[0;34m(\u001b[0m\u001b[0mx\u001b[0m \u001b[0;34m*\u001b[0m \u001b[0mplot_y\u001b[0m \u001b[0;34m+\u001b[0m \u001b[0my\u001b[0m \u001b[0;34m-\u001b[0m \u001b[0;36m1\u001b[0m\u001b[0;34m)\u001b[0m\u001b[0;34m)\u001b[0m\u001b[0;34m\u001b[0m\u001b[0;34m\u001b[0m\u001b[0m\n\u001b[1;32m     70\u001b[0m \u001b[0;34m\u001b[0m\u001b[0m\n\u001b[0;32m---> 71\u001b[0;31m \u001b[0mvis_img_in_filter\u001b[0m\u001b[0;34m(\u001b[0m\u001b[0;34m)\u001b[0m\u001b[0;34m\u001b[0m\u001b[0;34m\u001b[0m\u001b[0m\n\u001b[0m",
            "\u001b[0;32m<ipython-input-30-19229f66b51a>\u001b[0m in \u001b[0;36mvis_img_in_filter\u001b[0;34m(img, layer_name)\u001b[0m\n\u001b[1;32m     22\u001b[0m def vis_img_in_filter(img = np.array(X_train[2]).reshape((1, 28, 28, 1)).astype(np.float64), \n\u001b[1;32m     23\u001b[0m                       layer_name = 'conv2d_14'):\n\u001b[0;32m---> 24\u001b[0;31m     \u001b[0mlayer_output\u001b[0m \u001b[0;34m=\u001b[0m \u001b[0mlayer_dict\u001b[0m\u001b[0;34m[\u001b[0m\u001b[0mlayer_name\u001b[0m\u001b[0;34m]\u001b[0m\u001b[0;34m.\u001b[0m\u001b[0moutput\u001b[0m\u001b[0;34m\u001b[0m\u001b[0;34m\u001b[0m\u001b[0m\n\u001b[0m\u001b[1;32m     25\u001b[0m     \u001b[0mimg_ascs\u001b[0m \u001b[0;34m=\u001b[0m \u001b[0mlist\u001b[0m\u001b[0;34m(\u001b[0m\u001b[0;34m)\u001b[0m\u001b[0;34m\u001b[0m\u001b[0;34m\u001b[0m\u001b[0m\n\u001b[1;32m     26\u001b[0m     \u001b[0;32mfor\u001b[0m \u001b[0mfilter_index\u001b[0m \u001b[0;32min\u001b[0m \u001b[0mrange\u001b[0m\u001b[0;34m(\u001b[0m\u001b[0mlayer_output\u001b[0m\u001b[0;34m.\u001b[0m\u001b[0mshape\u001b[0m\u001b[0;34m[\u001b[0m\u001b[0;36m3\u001b[0m\u001b[0;34m]\u001b[0m\u001b[0;34m)\u001b[0m\u001b[0;34m:\u001b[0m\u001b[0;34m\u001b[0m\u001b[0;34m\u001b[0m\u001b[0m\n",
            "\u001b[0;31mKeyError\u001b[0m: 'conv2d_14'"
          ]
        }
      ]
    },
    {
      "cell_type": "code",
      "metadata": {
        "id": "9tvptcn8dxvp",
        "colab_type": "code",
        "colab": {}
      },
      "source": [
        ""
      ],
      "execution_count": 0,
      "outputs": []
    }
  ]
}